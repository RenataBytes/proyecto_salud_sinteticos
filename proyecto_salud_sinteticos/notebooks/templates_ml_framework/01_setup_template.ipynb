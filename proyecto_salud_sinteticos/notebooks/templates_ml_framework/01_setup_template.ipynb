{
 "cells": [
  {
   "cell_type": "markdown",
   "id": "88094b04",
   "metadata": {},
   "source": [
    "# PLANTILLA SET UP"
   ]
  },
  {
   "cell_type": "markdown",
   "id": "7805288f",
   "metadata": {},
   "source": [
    "**IMPORTANTE**: Recuerda hacer una copia de esta plantilla para no machacar la original."
   ]
  },
  {
   "cell_type": "markdown",
   "id": "2cc6b0de",
   "metadata": {},
   "source": [
    "## CREAR EL ENTORNO PARA EL PROYECTO"
   ]
  },
  {
   "cell_type": "markdown",
   "id": "ec2c52fc",
   "metadata": {},
   "source": [
    "Crear un nuevo entorno e instalar los paquetes básicos:\n",
    "\n",
    "1. Ir al prompt o terminal\n",
    "2. Copiar y poner la línea inferior:\n",
    "\n",
    "conda create --name proyecto1 python numpy pandas matplotlib seaborn scikit-learn scipy sqlalchemy xgboost jupyter\n",
    "\n",
    "3. Activar el nuevo entorno:\n",
    "\n",
    "conda activate proyecto1\n",
    "\n",
    "4. Instalar los paquetes que están en otros canales:\n",
    "\n",
    "conda install -c conda-forge pyjanitor scikit-plot yellowbrick imbalanced-learn jupyter_contrib_nbextensions cloudpickle\n",
    "\n",
    "conda install -c districtdatalabs yellowbrick\n",
    "\n",
    "pip install category_encoders\n",
    "\n",
    "5. Crear el environment.yml\n",
    "\n",
    "conda env export > proyecto1.yml\n",
    "\n",
    "*Nota: es posible que te lo haya creado en C:\\Users\\tu_usuario, más adelante moveremos este archivo al directorio del proyecto*"
   ]
  },
  {
   "cell_type": "markdown",
   "id": "234469e4",
   "metadata": {},
   "source": [
    "## IMPORTAR PAQUETES"
   ]
  },
  {
   "cell_type": "code",
   "execution_count": 1,
   "id": "18dab684",
   "metadata": {},
   "outputs": [],
   "source": [
    "import os\n",
    "import numpy as np\n",
    "import pandas as pd\n",
    "\n",
    "#Automcompletar rápido\n",
    "%config IPCompleter.greedy=True"
   ]
  },
  {
   "cell_type": "markdown",
   "id": "aa2291ac",
   "metadata": {},
   "source": [
    "## CREAR EL DIRECTORIO DEL PROYECTO"
   ]
  },
  {
   "cell_type": "markdown",
   "id": "9b376a0e",
   "metadata": {},
   "source": [
    "### Definir el directorio raiz donde vamos a crear el proyecto"
   ]
  },
  {
   "cell_type": "code",
   "execution_count": 2,
   "id": "ff896569",
   "metadata": {},
   "outputs": [],
   "source": [
    "raiz = 'C:/Users/isaac/Google Drive/DS4B/CursoMachineLearningPython/03_MACHINE_LEARNING/08_CASOS/'"
   ]
  },
  {
   "cell_type": "markdown",
   "id": "ded3d58c",
   "metadata": {},
   "source": [
    "### Definir el nombre del proyecto"
   ]
  },
  {
   "cell_type": "code",
   "execution_count": 3,
   "id": "3b7dece1",
   "metadata": {},
   "outputs": [],
   "source": [
    "nombre_dir = '00_PROYECTO1'"
   ]
  },
  {
   "cell_type": "markdown",
   "id": "e98c881a",
   "metadata": {},
   "source": [
    "### Crear el directorio y la estructura del proyecto"
   ]
  },
  {
   "cell_type": "code",
   "execution_count": 4,
   "id": "ea789940",
   "metadata": {},
   "outputs": [
    {
     "name": "stdout",
     "output_type": "stream",
     "text": [
      "Se ha creado satisfactoriamente el directorio C:/Users/isaac/Google Drive/DS4B/CursoMachineLearningPython/03_MACHINE_LEARNING/08_CASOS/00_PROYECTO1 \n"
     ]
    }
   ],
   "source": [
    "path = raiz + nombre_dir\n",
    "\n",
    "try:\n",
    "    os.mkdir(path)\n",
    "    os.mkdir(path + '/01_Documentos')\n",
    "    os.mkdir(path + '/02_Datos')\n",
    "    os.mkdir(path + '/02_Datos/01_Originales')\n",
    "    os.mkdir(path + '/02_Datos/02_Validacion')\n",
    "    os.mkdir(path + '/02_Datos/03_Trabajo')\n",
    "    os.mkdir(path + '/02_Datos/04_Caches')\n",
    "    os.mkdir(path + '/03_Notebooks')\n",
    "    os.mkdir(path + '/03_Notebooks/01_Funciones')\n",
    "    os.mkdir(path + '/03_Notebooks/02_Desarrollo')\n",
    "    os.mkdir(path + '/03_Notebooks/03_Sistema')\n",
    "    os.mkdir(path + '/04_Modelos')\n",
    "    os.mkdir(path + '/05_Resultados')\n",
    "    os.mkdir(path + '/09_Otros')\n",
    "    \n",
    "except OSError:\n",
    "    print (\"La creación del directorio %s ha fallado\" % path)\n",
    "else:\n",
    "    print (\"Se ha creado satisfactoriamente el directorio %s \" % path)"
   ]
  },
  {
   "cell_type": "markdown",
   "id": "fbdda974",
   "metadata": {},
   "source": [
    "### Situar el directorio de trabajo en el proyecto"
   ]
  },
  {
   "cell_type": "code",
   "execution_count": 5,
   "id": "6cf7027a",
   "metadata": {},
   "outputs": [],
   "source": [
    "os.chdir(path)"
   ]
  },
  {
   "cell_type": "markdown",
   "id": "c80bcf5b",
   "metadata": {},
   "source": [
    "### Mover el environment.yml"
   ]
  },
  {
   "cell_type": "markdown",
   "id": "5cfd72fa",
   "metadata": {},
   "source": [
    "Buscar manualmente el archivo proyecto1.yml, que posiblemente lo haya ubicado en C:\\Users\\tu_usuario y moverlo a la carpeta /01_Documentos'"
   ]
  },
  {
   "cell_type": "markdown",
   "id": "eaae5ba8",
   "metadata": {},
   "source": [
    "## CREAR LOS DATASETS INICIALES"
   ]
  },
  {
   "cell_type": "markdown",
   "id": "18e327d2",
   "metadata": {},
   "source": [
    "Poner los datos originales en la carpeta '/02_Datos/01_Originales'"
   ]
  },
  {
   "cell_type": "markdown",
   "id": "7e6b4179",
   "metadata": {},
   "source": [
    "### Importar los datos"
   ]
  },
  {
   "cell_type": "markdown",
   "id": "a0aada6d",
   "metadata": {},
   "source": [
    "Sustituir el nombre_fichero_datos."
   ]
  },
  {
   "cell_type": "code",
   "execution_count": 6,
   "id": "a991faf3",
   "metadata": {},
   "outputs": [],
   "source": [
    "nombre_fichero_datos = 'contratacion_fondos.csv'"
   ]
  },
  {
   "cell_type": "markdown",
   "id": "6f69525e",
   "metadata": {},
   "source": [
    "Cargar los datos."
   ]
  },
  {
   "cell_type": "code",
   "execution_count": 7,
   "id": "0af0f484",
   "metadata": {},
   "outputs": [
    {
     "data": {
      "text/html": [
       "<div>\n",
       "<style scoped>\n",
       "    .dataframe tbody tr th:only-of-type {\n",
       "        vertical-align: middle;\n",
       "    }\n",
       "\n",
       "    .dataframe tbody tr th {\n",
       "        vertical-align: top;\n",
       "    }\n",
       "\n",
       "    .dataframe thead th {\n",
       "        text-align: right;\n",
       "    }\n",
       "</style>\n",
       "<table border=\"1\" class=\"dataframe\">\n",
       "  <thead>\n",
       "    <tr style=\"text-align: right;\">\n",
       "      <th></th>\n",
       "      <th>Edad</th>\n",
       "      <th>Trabajo</th>\n",
       "      <th>Estado Civil</th>\n",
       "      <th>Fomación</th>\n",
       "      <th>Impago</th>\n",
       "      <th>Prestamo hipotecario</th>\n",
       "      <th>Prestamo Personal</th>\n",
       "      <th>Canal de contacto</th>\n",
       "      <th>Mes</th>\n",
       "      <th>Dia de la semana</th>\n",
       "      <th>num contactos esta campaña</th>\n",
       "      <th>num días último contacto</th>\n",
       "      <th>num contactos otras campañas</th>\n",
       "      <th>resultado campaña anterior</th>\n",
       "      <th>variación tasa empleo</th>\n",
       "      <th>euribor3m</th>\n",
       "      <th>contrata_fondos</th>\n",
       "    </tr>\n",
       "  </thead>\n",
       "  <tbody>\n",
       "    <tr>\n",
       "      <th>0</th>\n",
       "      <td>44.0</td>\n",
       "      <td>blue-collar</td>\n",
       "      <td>married</td>\n",
       "      <td>basic.4y</td>\n",
       "      <td>unknown</td>\n",
       "      <td>yes</td>\n",
       "      <td>no</td>\n",
       "      <td>cellular</td>\n",
       "      <td>aug</td>\n",
       "      <td>NaN</td>\n",
       "      <td>1</td>\n",
       "      <td>999</td>\n",
       "      <td>0</td>\n",
       "      <td>nonexistent</td>\n",
       "      <td>14</td>\n",
       "      <td>4963</td>\n",
       "      <td>0</td>\n",
       "    </tr>\n",
       "    <tr>\n",
       "      <th>1</th>\n",
       "      <td>53.0</td>\n",
       "      <td>technician</td>\n",
       "      <td>married</td>\n",
       "      <td>unknown</td>\n",
       "      <td>no</td>\n",
       "      <td>no</td>\n",
       "      <td>no</td>\n",
       "      <td>cellular</td>\n",
       "      <td>nov</td>\n",
       "      <td>NaN</td>\n",
       "      <td>1</td>\n",
       "      <td>999</td>\n",
       "      <td>0</td>\n",
       "      <td>nonexistent</td>\n",
       "      <td>-1</td>\n",
       "      <td>4021</td>\n",
       "      <td>0</td>\n",
       "    </tr>\n",
       "    <tr>\n",
       "      <th>2</th>\n",
       "      <td>28.0</td>\n",
       "      <td>management</td>\n",
       "      <td>single</td>\n",
       "      <td>university.degree</td>\n",
       "      <td>no</td>\n",
       "      <td>yes</td>\n",
       "      <td>no</td>\n",
       "      <td>cellular</td>\n",
       "      <td>jun</td>\n",
       "      <td>NaN</td>\n",
       "      <td>3</td>\n",
       "      <td>6</td>\n",
       "      <td>2</td>\n",
       "      <td>success</td>\n",
       "      <td>-17</td>\n",
       "      <td>729</td>\n",
       "      <td>1</td>\n",
       "    </tr>\n",
       "    <tr>\n",
       "      <th>3</th>\n",
       "      <td>39.0</td>\n",
       "      <td>services</td>\n",
       "      <td>married</td>\n",
       "      <td>high.school</td>\n",
       "      <td>no</td>\n",
       "      <td>no</td>\n",
       "      <td>no</td>\n",
       "      <td>cellular</td>\n",
       "      <td>apr</td>\n",
       "      <td>NaN</td>\n",
       "      <td>2</td>\n",
       "      <td>999</td>\n",
       "      <td>0</td>\n",
       "      <td>nonexistent</td>\n",
       "      <td>-18</td>\n",
       "      <td>1405</td>\n",
       "      <td>0</td>\n",
       "    </tr>\n",
       "    <tr>\n",
       "      <th>4</th>\n",
       "      <td>55.0</td>\n",
       "      <td>retired</td>\n",
       "      <td>married</td>\n",
       "      <td>NaN</td>\n",
       "      <td>no</td>\n",
       "      <td>yes</td>\n",
       "      <td>no</td>\n",
       "      <td>cellular</td>\n",
       "      <td>aug</td>\n",
       "      <td>NaN</td>\n",
       "      <td>1</td>\n",
       "      <td>3</td>\n",
       "      <td>1</td>\n",
       "      <td>success</td>\n",
       "      <td>-29</td>\n",
       "      <td>869</td>\n",
       "      <td>1</td>\n",
       "    </tr>\n",
       "    <tr>\n",
       "      <th>...</th>\n",
       "      <td>...</td>\n",
       "      <td>...</td>\n",
       "      <td>...</td>\n",
       "      <td>...</td>\n",
       "      <td>...</td>\n",
       "      <td>...</td>\n",
       "      <td>...</td>\n",
       "      <td>...</td>\n",
       "      <td>...</td>\n",
       "      <td>...</td>\n",
       "      <td>...</td>\n",
       "      <td>...</td>\n",
       "      <td>...</td>\n",
       "      <td>...</td>\n",
       "      <td>...</td>\n",
       "      <td>...</td>\n",
       "      <td>...</td>\n",
       "    </tr>\n",
       "    <tr>\n",
       "      <th>41183</th>\n",
       "      <td>59.0</td>\n",
       "      <td>retired</td>\n",
       "      <td>married</td>\n",
       "      <td>high.school</td>\n",
       "      <td>unknown</td>\n",
       "      <td>no</td>\n",
       "      <td>yes</td>\n",
       "      <td>telephone</td>\n",
       "      <td>jun</td>\n",
       "      <td>NaN</td>\n",
       "      <td>1</td>\n",
       "      <td>999</td>\n",
       "      <td>0</td>\n",
       "      <td>nonexistent</td>\n",
       "      <td>14</td>\n",
       "      <td>4866</td>\n",
       "      <td>0</td>\n",
       "    </tr>\n",
       "    <tr>\n",
       "      <th>41184</th>\n",
       "      <td>31.0</td>\n",
       "      <td>housemaid</td>\n",
       "      <td>married</td>\n",
       "      <td>basic.4y</td>\n",
       "      <td>unknown</td>\n",
       "      <td>no</td>\n",
       "      <td>no</td>\n",
       "      <td>telephone</td>\n",
       "      <td>may</td>\n",
       "      <td>NaN</td>\n",
       "      <td>2</td>\n",
       "      <td>999</td>\n",
       "      <td>0</td>\n",
       "      <td>nonexistent</td>\n",
       "      <td>11</td>\n",
       "      <td>486</td>\n",
       "      <td>0</td>\n",
       "    </tr>\n",
       "    <tr>\n",
       "      <th>41185</th>\n",
       "      <td>42.0</td>\n",
       "      <td>admin.</td>\n",
       "      <td>single</td>\n",
       "      <td>university.degree</td>\n",
       "      <td>unknown</td>\n",
       "      <td>yes</td>\n",
       "      <td>yes</td>\n",
       "      <td>telephone</td>\n",
       "      <td>may</td>\n",
       "      <td>NaN</td>\n",
       "      <td>3</td>\n",
       "      <td>999</td>\n",
       "      <td>0</td>\n",
       "      <td>nonexistent</td>\n",
       "      <td>11</td>\n",
       "      <td>4857</td>\n",
       "      <td>0</td>\n",
       "    </tr>\n",
       "    <tr>\n",
       "      <th>41186</th>\n",
       "      <td>48.0</td>\n",
       "      <td>technician</td>\n",
       "      <td>married</td>\n",
       "      <td>professional.course</td>\n",
       "      <td>no</td>\n",
       "      <td>no</td>\n",
       "      <td>yes</td>\n",
       "      <td>telephone</td>\n",
       "      <td>oct</td>\n",
       "      <td>NaN</td>\n",
       "      <td>2</td>\n",
       "      <td>999</td>\n",
       "      <td>0</td>\n",
       "      <td>nonexistent</td>\n",
       "      <td>-34</td>\n",
       "      <td>742</td>\n",
       "      <td>0</td>\n",
       "    </tr>\n",
       "    <tr>\n",
       "      <th>41187</th>\n",
       "      <td>25.0</td>\n",
       "      <td>student</td>\n",
       "      <td>single</td>\n",
       "      <td>high.school</td>\n",
       "      <td>no</td>\n",
       "      <td>no</td>\n",
       "      <td>no</td>\n",
       "      <td>telephone</td>\n",
       "      <td>may</td>\n",
       "      <td>NaN</td>\n",
       "      <td>4</td>\n",
       "      <td>999</td>\n",
       "      <td>0</td>\n",
       "      <td>nonexistent</td>\n",
       "      <td>11</td>\n",
       "      <td>4859</td>\n",
       "      <td>0</td>\n",
       "    </tr>\n",
       "  </tbody>\n",
       "</table>\n",
       "<p>41188 rows × 17 columns</p>\n",
       "</div>"
      ],
      "text/plain": [
       "       Edad      Trabajo Estado Civil             Fomación   Impago  \\\n",
       "0      44.0  blue-collar      married             basic.4y  unknown   \n",
       "1      53.0   technician      married              unknown       no   \n",
       "2      28.0   management       single    university.degree       no   \n",
       "3      39.0     services      married          high.school       no   \n",
       "4      55.0      retired      married                  NaN       no   \n",
       "...     ...          ...          ...                  ...      ...   \n",
       "41183  59.0      retired      married          high.school  unknown   \n",
       "41184  31.0    housemaid      married             basic.4y  unknown   \n",
       "41185  42.0       admin.       single    university.degree  unknown   \n",
       "41186  48.0   technician      married  professional.course       no   \n",
       "41187  25.0      student       single          high.school       no   \n",
       "\n",
       "      Prestamo hipotecario Prestamo Personal Canal de contacto  Mes  \\\n",
       "0                      yes                no          cellular  aug   \n",
       "1                       no                no          cellular  nov   \n",
       "2                      yes                no          cellular  jun   \n",
       "3                       no                no          cellular  apr   \n",
       "4                      yes                no          cellular  aug   \n",
       "...                    ...               ...               ...  ...   \n",
       "41183                   no               yes         telephone  jun   \n",
       "41184                   no                no         telephone  may   \n",
       "41185                  yes               yes         telephone  may   \n",
       "41186                   no               yes         telephone  oct   \n",
       "41187                   no                no         telephone  may   \n",
       "\n",
       "      Dia de la semana  num contactos esta campaña  num días último contacto  \\\n",
       "0                  NaN                           1                       999   \n",
       "1                  NaN                           1                       999   \n",
       "2                  NaN                           3                         6   \n",
       "3                  NaN                           2                       999   \n",
       "4                  NaN                           1                         3   \n",
       "...                ...                         ...                       ...   \n",
       "41183              NaN                           1                       999   \n",
       "41184              NaN                           2                       999   \n",
       "41185              NaN                           3                       999   \n",
       "41186              NaN                           2                       999   \n",
       "41187              NaN                           4                       999   \n",
       "\n",
       "       num contactos otras campañas resultado campaña anterior  \\\n",
       "0                                 0                nonexistent   \n",
       "1                                 0                nonexistent   \n",
       "2                                 2                    success   \n",
       "3                                 0                nonexistent   \n",
       "4                                 1                    success   \n",
       "...                             ...                        ...   \n",
       "41183                             0                nonexistent   \n",
       "41184                             0                nonexistent   \n",
       "41185                             0                nonexistent   \n",
       "41186                             0                nonexistent   \n",
       "41187                             0                nonexistent   \n",
       "\n",
       "       variación tasa empleo  euribor3m  contrata_fondos  \n",
       "0                         14       4963                0  \n",
       "1                         -1       4021                0  \n",
       "2                        -17        729                1  \n",
       "3                        -18       1405                0  \n",
       "4                        -29        869                1  \n",
       "...                      ...        ...              ...  \n",
       "41183                     14       4866                0  \n",
       "41184                     11        486                0  \n",
       "41185                     11       4857                0  \n",
       "41186                    -34        742                0  \n",
       "41187                     11       4859                0  \n",
       "\n",
       "[41188 rows x 17 columns]"
      ]
     },
     "execution_count": 7,
     "metadata": {},
     "output_type": "execute_result"
    }
   ],
   "source": [
    "ruta_completa = path + '/02_Datos/01_Originales/' + nombre_fichero_datos\n",
    "\n",
    "datos = pd.read_csv(ruta_completa,index_col=0)\n",
    "datos"
   ]
  },
  {
   "cell_type": "markdown",
   "id": "a4fedb2a",
   "metadata": {},
   "source": [
    "### Extraer y reservar el dataset de validación"
   ]
  },
  {
   "cell_type": "code",
   "execution_count": 8,
   "id": "05d2c9b5",
   "metadata": {},
   "outputs": [],
   "source": [
    "val= datos.sample(frac = 0.3)"
   ]
  },
  {
   "cell_type": "code",
   "execution_count": 9,
   "id": "db654eea",
   "metadata": {},
   "outputs": [],
   "source": [
    "nombre_fichero_validacion = 'validacion.csv'\n",
    "\n",
    "ruta_completa = path + '/02_Datos/02_Validacion/' + nombre_fichero_validacion\n",
    "\n",
    "val.to_csv(ruta_completa)"
   ]
  },
  {
   "cell_type": "markdown",
   "id": "f84e120e",
   "metadata": {},
   "source": [
    "### Extraer y guardar el dataset de trabajo"
   ]
  },
  {
   "cell_type": "code",
   "execution_count": 10,
   "id": "e0ce153c",
   "metadata": {},
   "outputs": [],
   "source": [
    "trabajo = datos.loc[~datos.index.isin(val.index)]"
   ]
  },
  {
   "cell_type": "code",
   "execution_count": 11,
   "id": "dbb79c5f",
   "metadata": {},
   "outputs": [],
   "source": [
    "nombre_fichero_trabajo = 'trabajo.csv'\n",
    "\n",
    "ruta_completa = path + '/02_Datos/03_Trabajo/' + nombre_fichero_trabajo\n",
    "\n",
    "trabajo.to_csv(ruta_completa)"
   ]
  },
  {
   "cell_type": "markdown",
   "id": "2ece8ca5",
   "metadata": {},
   "source": [
    "### Extraer y guardar una muestra (opcional)"
   ]
  },
  {
   "cell_type": "markdown",
   "id": "c1eb2289",
   "metadata": {},
   "source": [
    "Actualizar el tamaño de la muestra."
   ]
  },
  {
   "cell_type": "code",
   "execution_count": 12,
   "id": "6b959ab2",
   "metadata": {},
   "outputs": [],
   "source": [
    "muestra= trabajo.sample(n = 20000)"
   ]
  },
  {
   "cell_type": "code",
   "execution_count": 13,
   "id": "26e6e0c9",
   "metadata": {},
   "outputs": [],
   "source": [
    "nombre_fichero_muestra = 'muestra.csv'\n",
    "\n",
    "ruta_completa = path + '/02_Datos/03_Trabajo/' + nombre_fichero_muestra\n",
    "\n",
    "muestra.to_csv(ruta_completa)"
   ]
  }
 ],
 "metadata": {
  "kernelspec": {
   "display_name": "Python 3 (ipykernel)",
   "language": "python",
   "name": "python3"
  },
  "language_info": {
   "codemirror_mode": {
    "name": "ipython",
    "version": 3
   },
   "file_extension": ".py",
   "mimetype": "text/x-python",
   "name": "python",
   "nbconvert_exporter": "python",
   "pygments_lexer": "ipython3",
   "version": "3.9.19"
  },
  "toc": {
   "base_numbering": 1,
   "nav_menu": {},
   "number_sections": true,
   "sideBar": true,
   "skip_h1_title": false,
   "title_cell": "Table of Contents",
   "title_sidebar": "Contents",
   "toc_cell": false,
   "toc_position": {
    "height": "calc(100% - 180px)",
    "left": "10px",
    "top": "150px",
    "width": "208.9px"
   },
   "toc_section_display": true,
   "toc_window_display": true
  },
  "varInspector": {
   "cols": {
    "lenName": 16,
    "lenType": 16,
    "lenVar": 40
   },
   "kernels_config": {
    "python": {
     "delete_cmd_postfix": "",
     "delete_cmd_prefix": "del ",
     "library": "var_list.py",
     "varRefreshCmd": "print(var_dic_list())"
    },
    "r": {
     "delete_cmd_postfix": ") ",
     "delete_cmd_prefix": "rm(",
     "library": "var_list.r",
     "varRefreshCmd": "cat(var_dic_list()) "
    }
   },
   "types_to_exclude": [
    "module",
    "function",
    "builtin_function_or_method",
    "instance",
    "_Feature"
   ],
   "window_display": false
  }
 },
 "nbformat": 4,
 "nbformat_minor": 5
}
