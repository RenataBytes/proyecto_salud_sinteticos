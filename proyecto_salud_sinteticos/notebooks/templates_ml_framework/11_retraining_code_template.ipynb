{
 "cells": [
  {
   "cell_type": "markdown",
   "id": "c7f65e25",
   "metadata": {},
   "source": [
    "# CODIGO DE RE-ENTRENAMIENTO"
   ]
  },
  {
   "cell_type": "markdown",
   "id": "73a0f588",
   "metadata": {},
   "source": [
    "*NOTA: Para poder usar este código de entrenamiento hay que lanzarlo desde exactamente el mismo entorno en el que fue creado.*\n",
    "\n",
    "*Se puede instalar ese entorno en la nueva máquina usando el environment.yml que creamos en el set up del proyecto*\n",
    "\n",
    "*Copiar el proyecto1.yml al directorio y en el terminal o anaconda prompt ejecutar:*\n",
    "\n",
    "conda env create --file proyecto1.yml --name proyecto1"
   ]
  },
  {
   "cell_type": "code",
   "execution_count": 1,
   "id": "ffe7be80",
   "metadata": {},
   "outputs": [
    {
     "name": "stderr",
     "output_type": "stream",
     "text": [
      "C:\\Users\\isaac\\miniconda3\\envs\\proyecto1\\lib\\site-packages\\xgboost\\sklearn.py:1224: UserWarning: The use of label encoder in XGBClassifier is deprecated and will be removed in a future release. To remove this warning, do the following: 1) Pass option use_label_encoder=False when constructing XGBClassifier object; and 2) Encode your labels (y) as integers starting with 0, i.e. 0, 1, 2, ..., [num_class - 1].\n",
      "  warnings.warn(label_encoder_deprecation_msg, UserWarning)\n"
     ]
    }
   ],
   "source": [
    "import numpy as np\n",
    "import pandas as pd\n",
    "import cloudpickle\n",
    "\n",
    "from janitor import clean_names\n",
    "\n",
    "from sklearn.preprocessing import OrdinalEncoder\n",
    "from sklearn.preprocessing import KBinsDiscretizer\n",
    "from sklearn.preprocessing import Binarizer\n",
    "from sklearn.preprocessing import QuantileTransformer\n",
    "from sklearn.preprocessing import StandardScaler\n",
    "\n",
    "from xgboost import XGBClassifier\n",
    "\n",
    "from sklearn.pipeline import Pipeline\n",
    "from sklearn.preprocessing import FunctionTransformer\n",
    "from sklearn.compose import make_column_transformer\n",
    "from sklearn.pipeline import make_pipeline\n",
    "\n",
    "\n",
    "ruta_proyecto = 'C:/Users/isaac/Google Drive/DS4B/CursoMachineLearningPython/03_MACHINE_LEARNING/08_CASOS/00_PROYECTO1'\n",
    "\n",
    "nombre_fichero_datos = 'contratacion_fondos.csv'\n",
    "\n",
    "ruta_completa = ruta_proyecto + '/02_Datos/01_Originales/' + nombre_fichero_datos\n",
    "\n",
    "df = pd.read_csv(ruta_completa,index_col=0)\n",
    "\n",
    "df = clean_names(df) \\\n",
    "             .drop_duplicates() \\\n",
    "             .dropna(thresh=3)\n",
    "                     \n",
    "variables_finales = ['euribor3m',\n",
    "                   'num_dias_ultimo_contacto',\n",
    "                   'resultado_campana_anterior',\n",
    "                   'variacion_tasa_empleo']\n",
    "\n",
    "target = 'contrata_fondos'\n",
    "\n",
    "x = df[variables_finales].copy()\n",
    "\n",
    "y = df[target].copy()\n",
    "\n",
    "nombre_pipe_entrenamiento = 'pipe_entrenamiento.pickle'\n",
    "\n",
    "ruta_pipe_entrenamiento = ruta_proyecto + '/04_Modelos/' + nombre_pipe_entrenamiento\n",
    "\n",
    "with open(ruta_pipe_entrenamiento, mode='rb') as file:\n",
    "   pipe_entrenamiento = cloudpickle.load(file)\n",
    "\n",
    "pipe_ejecucion = pipe_entrenamiento.fit(x,y)\n",
    "\n",
    "nombre_pipe_ejecucion = 'pipe_ejecucion.pickle'\n",
    "\n",
    "ruta_pipe_ejecucion = ruta_proyecto + '/04_Modelos/' + nombre_pipe_ejecucion\n",
    "\n",
    "with open(ruta_pipe_ejecucion, mode='wb') as file:\n",
    "   cloudpickle.dump(pipe_ejecucion, file)"
   ]
  },
  {
   "cell_type": "code",
   "execution_count": null,
   "id": "a346ed6c",
   "metadata": {},
   "outputs": [],
   "source": []
  }
 ],
 "metadata": {
  "kernelspec": {
   "display_name": "Python 3 (ipykernel)",
   "language": "python",
   "name": "python3"
  },
  "language_info": {
   "codemirror_mode": {
    "name": "ipython",
    "version": 3
   },
   "file_extension": ".py",
   "mimetype": "text/x-python",
   "name": "python",
   "nbconvert_exporter": "python",
   "pygments_lexer": "ipython3",
   "version": "3.9.19"
  },
  "toc": {
   "base_numbering": 1,
   "nav_menu": {},
   "number_sections": true,
   "sideBar": true,
   "skip_h1_title": false,
   "title_cell": "Table of Contents",
   "title_sidebar": "Contents",
   "toc_cell": false,
   "toc_position": {
    "height": "calc(100% - 180px)",
    "left": "10px",
    "top": "150px",
    "width": "193.5px"
   },
   "toc_section_display": true,
   "toc_window_display": true
  },
  "varInspector": {
   "cols": {
    "lenName": 16,
    "lenType": 16,
    "lenVar": 40
   },
   "kernels_config": {
    "python": {
     "delete_cmd_postfix": "",
     "delete_cmd_prefix": "del ",
     "library": "var_list.py",
     "varRefreshCmd": "print(var_dic_list())"
    },
    "r": {
     "delete_cmd_postfix": ") ",
     "delete_cmd_prefix": "rm(",
     "library": "var_list.r",
     "varRefreshCmd": "cat(var_dic_list()) "
    }
   },
   "position": {
    "height": "388.85px",
    "left": "1070px",
    "right": "20px",
    "top": "120px",
    "width": "350px"
   },
   "types_to_exclude": [
    "module",
    "function",
    "builtin_function_or_method",
    "instance",
    "_Feature"
   ],
   "window_display": false
  }
 },
 "nbformat": 4,
 "nbformat_minor": 5
}
