{
 "cells": [
  {
   "cell_type": "markdown",
   "id": "d31dea65",
   "metadata": {},
   "source": [
    "# PLANTILLA TRANSFORMACIÓN DE DATOS"
   ]
  },
  {
   "cell_type": "markdown",
   "id": "a18ebc17",
   "metadata": {},
   "source": [
    "**IMPORTANTE**: Recuerda hacer una copia de esta plantilla para no machacar la original."
   ]
  },
  {
   "cell_type": "markdown",
   "id": "swiss-fault",
   "metadata": {},
   "source": [
    "## IMPORTAR PAQUETES"
   ]
  },
  {
   "cell_type": "code",
   "execution_count": 25,
   "id": "adjacent-toddler",
   "metadata": {},
   "outputs": [],
   "source": [
    "import numpy as np\n",
    "import pandas as pd\n",
    "import matplotlib.pyplot as plt\n",
    "%matplotlib inline\n",
    "from sklearn.preprocessing import OneHotEncoder\n",
    "from sklearn.preprocessing import OrdinalEncoder\n",
    "from sklearn.preprocessing import LabelEncoder\n",
    "from category_encoders import TargetEncoder\n",
    "from sklearn.preprocessing import KBinsDiscretizer\n",
    "from sklearn.preprocessing import Binarizer\n",
    "from sklearn.preprocessing import PowerTransformer\n",
    "from sklearn.preprocessing import QuantileTransformer\n",
    "from sklearn.feature_extraction.text import CountVectorizer\n",
    "from sklearn.feature_extraction.text import TfidfVectorizer\n",
    "from sklearn.preprocessing import MinMaxScaler\n",
    "from sklearn.preprocessing import StandardScaler\n",
    "from sklearn.preprocessing import RobustScaler\n",
    "from sklearn.preprocessing import MaxAbsScaler\n",
    "from imblearn.under_sampling import RandomUnderSampler\n",
    "from imblearn.over_sampling import RandomOverSampler\n",
    "\n",
    "#Automcompletar rápido\n",
    "%config IPCompleter.greedy=True"
   ]
  },
  {
   "cell_type": "markdown",
   "id": "graduate-compensation",
   "metadata": {},
   "source": [
    "## IMPORTAR LOS DATOS"
   ]
  },
  {
   "cell_type": "markdown",
   "id": "3a5b94ef",
   "metadata": {},
   "source": [
    "1.- Sustituir la ruta del proyecto."
   ]
  },
  {
   "cell_type": "code",
   "execution_count": 26,
   "id": "f9d2de58",
   "metadata": {},
   "outputs": [],
   "source": [
    "ruta_proyecto = 'C:/Users/isaac/Google Drive/DS4B/CursoMachineLearningPython/03_MACHINE_LEARNING/08_CASOS/00_PROYECTO1'"
   ]
  },
  {
   "cell_type": "markdown",
   "id": "c3363765",
   "metadata": {},
   "source": [
    "2.- Nombrar los ficheros de datos."
   ]
  },
  {
   "cell_type": "code",
   "execution_count": 27,
   "id": "a9e2e04a",
   "metadata": {},
   "outputs": [],
   "source": [
    "nombre_cat = 'cat_resultado_eda.pickle'\n",
    "nombre_num = 'num_resultado_eda.pickle'"
   ]
  },
  {
   "cell_type": "markdown",
   "id": "b9825018",
   "metadata": {},
   "source": [
    "3.- Cargar los datos."
   ]
  },
  {
   "cell_type": "code",
   "execution_count": 28,
   "id": "cab6ebcd",
   "metadata": {},
   "outputs": [],
   "source": [
    "cat = pd.read_pickle(ruta_proyecto + '/02_Datos/03_Trabajo/' + nombre_cat).reset_index(drop = True)\n",
    "num = pd.read_pickle(ruta_proyecto + '/02_Datos/03_Trabajo/' + nombre_num).reset_index(drop = True)"
   ]
  },
  {
   "cell_type": "markdown",
   "id": "a1350902",
   "metadata": {},
   "source": [
    "4.- Separar la target."
   ]
  },
  {
   "cell_type": "code",
   "execution_count": 29,
   "id": "095b0ef2",
   "metadata": {},
   "outputs": [],
   "source": [
    "target = num[['contrata_fondos']].copy().reset_index(drop=True)"
   ]
  },
  {
   "cell_type": "markdown",
   "id": "9790d322",
   "metadata": {},
   "source": [
    "## TRANSFORMACIÓN DE CATEGÓRICAS"
   ]
  },
  {
   "cell_type": "markdown",
   "id": "f1fa5201",
   "metadata": {},
   "source": [
    "### One Hot Encoding"
   ]
  },
  {
   "cell_type": "markdown",
   "id": "da9b786a",
   "metadata": {},
   "source": [
    "#### Variables a aplicar OHE"
   ]
  },
  {
   "cell_type": "code",
   "execution_count": 30,
   "id": "6e36cf47",
   "metadata": {},
   "outputs": [],
   "source": [
    "var_ohe = ['estado_civil','hipoteca','impago','consumo']"
   ]
  },
  {
   "cell_type": "markdown",
   "id": "db8d4634",
   "metadata": {},
   "source": [
    "#### Instanciar"
   ]
  },
  {
   "cell_type": "code",
   "execution_count": 31,
   "id": "e75c2ee4",
   "metadata": {},
   "outputs": [],
   "source": [
    "ohe = OneHotEncoder(sparse = False, handle_unknown='ignore')"
   ]
  },
  {
   "cell_type": "markdown",
   "id": "26c9f58f",
   "metadata": {},
   "source": [
    "#### Entrenar y aplicar"
   ]
  },
  {
   "cell_type": "code",
   "execution_count": 32,
   "id": "4162d5a7",
   "metadata": {},
   "outputs": [],
   "source": [
    "cat_ohe = ohe.fit_transform(cat[var_ohe])"
   ]
  },
  {
   "cell_type": "markdown",
   "id": "c9131f15",
   "metadata": {},
   "source": [
    "#### Guardar como dataframe"
   ]
  },
  {
   "cell_type": "code",
   "execution_count": 33,
   "id": "783255d7",
   "metadata": {},
   "outputs": [],
   "source": [
    "cat_ohe = pd.DataFrame(cat_ohe, columns = ohe.get_feature_names_out())"
   ]
  },
  {
   "cell_type": "markdown",
   "id": "5e7c941a",
   "metadata": {},
   "source": [
    "### Ordinal Encoding"
   ]
  },
  {
   "cell_type": "markdown",
   "id": "c49c4a51",
   "metadata": {},
   "source": [
    "#### Variables a aplicar OE"
   ]
  },
  {
   "cell_type": "code",
   "execution_count": 34,
   "id": "8a09974e",
   "metadata": {},
   "outputs": [],
   "source": [
    "var_oe = ['formacion','resultado_campana_anterior']"
   ]
  },
  {
   "cell_type": "markdown",
   "id": "6922c091",
   "metadata": {},
   "source": [
    "#### Orden de los valores de las variables"
   ]
  },
  {
   "cell_type": "code",
   "execution_count": 35,
   "id": "428dfe69",
   "metadata": {},
   "outputs": [],
   "source": [
    "#Orden de la primera variable\n",
    "orden_formacion = ['NULO','illiterate','basic.4y','basic.6y','basic.9y','high.school','professional.course','university.degree']\n",
    "\n",
    "#Orden de la segunda variable\n",
    "orden_resultado_campana_anterior = ['nonexistent','failure','success']"
   ]
  },
  {
   "cell_type": "markdown",
   "id": "3b38879c",
   "metadata": {},
   "source": [
    "#### Instanciar"
   ]
  },
  {
   "cell_type": "code",
   "execution_count": 36,
   "id": "4fe57c80",
   "metadata": {},
   "outputs": [],
   "source": [
    "oe = OrdinalEncoder(categories = [orden_formacion,orden_resultado_campana_anterior],\n",
    "                    handle_unknown = 'use_encoded_value',\n",
    "                    unknown_value = 10)"
   ]
  },
  {
   "cell_type": "markdown",
   "id": "0aeff907",
   "metadata": {},
   "source": [
    "#### Entrenar y aplicar"
   ]
  },
  {
   "cell_type": "code",
   "execution_count": 37,
   "id": "dbeafa81",
   "metadata": {},
   "outputs": [],
   "source": [
    "cat_oe = oe.fit_transform(cat[var_oe])"
   ]
  },
  {
   "cell_type": "markdown",
   "id": "df479d84",
   "metadata": {},
   "source": [
    "#### Guardar como dataframe"
   ]
  },
  {
   "cell_type": "code",
   "execution_count": 38,
   "id": "bd1db401",
   "metadata": {},
   "outputs": [],
   "source": [
    "#Añadir sufijos a los nombres\n",
    "nombres_oe = [variable + '_oe' for variable in var_oe]\n",
    "\n",
    "#Guardar como dataframe\n",
    "cat_oe = pd.DataFrame(cat_oe, columns = nombres_oe)"
   ]
  },
  {
   "cell_type": "markdown",
   "id": "be5ec0ae",
   "metadata": {},
   "source": [
    "### Target Encoding"
   ]
  },
  {
   "cell_type": "markdown",
   "id": "320bbcb7",
   "metadata": {},
   "source": [
    "#### Variables a aplicar TE"
   ]
  },
  {
   "cell_type": "code",
   "execution_count": 39,
   "id": "3544bb26",
   "metadata": {},
   "outputs": [],
   "source": [
    "var_te = ['trabajo','mes']"
   ]
  },
  {
   "cell_type": "markdown",
   "id": "0d66cf0d",
   "metadata": {},
   "source": [
    "#### Instanciar"
   ]
  },
  {
   "cell_type": "code",
   "execution_count": 40,
   "id": "0d214b55",
   "metadata": {},
   "outputs": [],
   "source": [
    "te = TargetEncoder(min_samples_leaf=100, return_df = False)"
   ]
  },
  {
   "cell_type": "markdown",
   "id": "65ea9fb7",
   "metadata": {},
   "source": [
    "#### Entrenar y aplicar"
   ]
  },
  {
   "cell_type": "code",
   "execution_count": 41,
   "id": "aabd67d6",
   "metadata": {},
   "outputs": [],
   "source": [
    "cat_te = te.fit_transform(cat[var_te], y = target)"
   ]
  },
  {
   "cell_type": "markdown",
   "id": "d8423376",
   "metadata": {},
   "source": [
    "#### Guardar como dataframe"
   ]
  },
  {
   "cell_type": "code",
   "execution_count": 42,
   "id": "9a188ce9",
   "metadata": {},
   "outputs": [],
   "source": [
    "#Añadir sufijos a los nombres\n",
    "nombres_te = [variable + '_te' for variable in var_te]\n",
    "\n",
    "#Guardar como dataframe\n",
    "cat_te = pd.DataFrame(cat_te, columns = nombres_te)"
   ]
  },
  {
   "cell_type": "markdown",
   "id": "a6d9a823",
   "metadata": {},
   "source": [
    "### Fechas y textos"
   ]
  },
  {
   "cell_type": "markdown",
   "id": "db3a2e2c",
   "metadata": {},
   "source": [
    "Estas variables requieren transformaciones más ad-hoc y no tan susceptibles de aplicar mediante una plantilla.\n",
    "\n",
    "Acudir a su correspondientes notebooks para recordar los recursos para trabajarlas.\n",
    "\n",
    "No obstante esta plantilla contiene esta sección para recordar que aquí sería el momento en el que se trabajarían."
   ]
  },
  {
   "cell_type": "markdown",
   "id": "ec6bd31a",
   "metadata": {},
   "source": [
    "## TRANSFORMACIÓN DE NUMÉRICAS"
   ]
  },
  {
   "cell_type": "markdown",
   "id": "d4e7bf5e",
   "metadata": {},
   "source": [
    "### Discretizar variables"
   ]
  },
  {
   "cell_type": "markdown",
   "id": "00238998",
   "metadata": {},
   "source": [
    "#### Mediante distancia similar"
   ]
  },
  {
   "cell_type": "markdown",
   "id": "9c55546f",
   "metadata": {},
   "source": [
    "##### Variables a discretizar mediante distancia similar"
   ]
  },
  {
   "cell_type": "code",
   "execution_count": 43,
   "id": "c13db57a",
   "metadata": {},
   "outputs": [],
   "source": [
    "var_disc_ds = ['num_contactos_esta_campana','num_dias_ultimo_contacto']"
   ]
  },
  {
   "cell_type": "markdown",
   "id": "c8ac6474",
   "metadata": {},
   "source": [
    "##### Instanciar"
   ]
  },
  {
   "cell_type": "code",
   "execution_count": 44,
   "id": "80d78036",
   "metadata": {},
   "outputs": [],
   "source": [
    "disc_ds = KBinsDiscretizer(n_bins = 6, strategy = 'uniform', encode = 'ordinal')"
   ]
  },
  {
   "cell_type": "markdown",
   "id": "1b4b4db4",
   "metadata": {},
   "source": [
    "##### Entrenar y aplicar"
   ]
  },
  {
   "cell_type": "code",
   "execution_count": 45,
   "id": "e193d3ba",
   "metadata": {},
   "outputs": [],
   "source": [
    "num_disc_ds = disc_ds.fit_transform(num[var_disc_ds])"
   ]
  },
  {
   "cell_type": "markdown",
   "id": "717dcd56",
   "metadata": {},
   "source": [
    "##### Guardar como dataframe"
   ]
  },
  {
   "cell_type": "code",
   "execution_count": 46,
   "id": "d64cca78",
   "metadata": {},
   "outputs": [],
   "source": [
    "#Añadir sufijos a los nombres\n",
    "nombres_ds = [variable + '_disc_ds' for variable in var_disc_ds]\n",
    "\n",
    "#Guardar como dataframe\n",
    "num_disc_ds = pd.DataFrame(num_disc_ds,columns = nombres_ds)"
   ]
  },
  {
   "cell_type": "markdown",
   "id": "76187da4",
   "metadata": {},
   "source": [
    "#### Mediante número de casos similares"
   ]
  },
  {
   "cell_type": "markdown",
   "id": "472097ea",
   "metadata": {},
   "source": [
    "##### Variables a discretizar mediante número de casos similares"
   ]
  },
  {
   "cell_type": "code",
   "execution_count": 47,
   "id": "42781513",
   "metadata": {},
   "outputs": [],
   "source": [
    "var_disc_cs = ['num_contactos_esta_campana','euribor3m']"
   ]
  },
  {
   "cell_type": "markdown",
   "id": "36196754",
   "metadata": {},
   "source": [
    "##### Instanciar"
   ]
  },
  {
   "cell_type": "code",
   "execution_count": 48,
   "id": "2e964121",
   "metadata": {},
   "outputs": [],
   "source": [
    "disc_cs = KBinsDiscretizer(n_bins = 2, strategy = 'quantile', encode = 'ordinal')"
   ]
  },
  {
   "cell_type": "markdown",
   "id": "0fd5b9d5",
   "metadata": {},
   "source": [
    "##### Entrenar y aplicar"
   ]
  },
  {
   "cell_type": "code",
   "execution_count": 49,
   "id": "5f959115",
   "metadata": {},
   "outputs": [],
   "source": [
    "num_disc_cs = disc_cs.fit_transform(num[var_disc_cs])"
   ]
  },
  {
   "cell_type": "markdown",
   "id": "1c52fb69",
   "metadata": {},
   "source": [
    "##### Guardar como dataframe"
   ]
  },
  {
   "cell_type": "code",
   "execution_count": 50,
   "id": "439d2d64",
   "metadata": {},
   "outputs": [],
   "source": [
    "#Añadir sufijos a los nombres\n",
    "nombres_cs = [variable + '_disc_cs' for variable in var_disc_cs]\n",
    "\n",
    "#Guardar como dataframe\n",
    "num_disc_cs = pd.DataFrame(num_disc_cs,columns = nombres_cs)"
   ]
  },
  {
   "cell_type": "markdown",
   "id": "b5a4b948",
   "metadata": {},
   "source": [
    "### Binarizar variables"
   ]
  },
  {
   "cell_type": "markdown",
   "id": "3208cfd8",
   "metadata": {},
   "source": [
    "#### Variables a binarizar"
   ]
  },
  {
   "cell_type": "code",
   "execution_count": 51,
   "id": "a79b897c",
   "metadata": {},
   "outputs": [],
   "source": [
    "var_bin = ['variacion_tasa_empleo']"
   ]
  },
  {
   "cell_type": "markdown",
   "id": "9247e51a",
   "metadata": {},
   "source": [
    "#### Instanciar"
   ]
  },
  {
   "cell_type": "code",
   "execution_count": 52,
   "id": "2bcf7c5f",
   "metadata": {},
   "outputs": [],
   "source": [
    "bin = Binarizer(threshold=0)"
   ]
  },
  {
   "cell_type": "markdown",
   "id": "b4c17941",
   "metadata": {},
   "source": [
    "#### Entrenar y aplicar"
   ]
  },
  {
   "cell_type": "code",
   "execution_count": 53,
   "id": "087568ab",
   "metadata": {},
   "outputs": [],
   "source": [
    "num_bin = bin.fit_transform(num[var_bin])"
   ]
  },
  {
   "cell_type": "markdown",
   "id": "52401fa6",
   "metadata": {},
   "source": [
    "#### Guardar como dataframe"
   ]
  },
  {
   "cell_type": "code",
   "execution_count": 54,
   "id": "990bab10",
   "metadata": {},
   "outputs": [],
   "source": [
    "#Añadir sufijos a los nombres\n",
    "nombres_bin = [variable + '_bin' for variable in var_bin]\n",
    "\n",
    "#Guardar como dataframe\n",
    "num_bin = pd.DataFrame(num_bin,columns = nombres_bin)"
   ]
  },
  {
   "cell_type": "markdown",
   "id": "2f3512e8",
   "metadata": {},
   "source": [
    "### Normalizar (Gauss)"
   ]
  },
  {
   "cell_type": "markdown",
   "id": "c4d58f1a",
   "metadata": {},
   "source": [
    "#### Con Yeo-Johnson"
   ]
  },
  {
   "cell_type": "markdown",
   "id": "6af78b0c",
   "metadata": {},
   "source": [
    "##### Variables a normalizar con Yeo-Johnson"
   ]
  },
  {
   "cell_type": "code",
   "execution_count": 55,
   "id": "ea1c6238",
   "metadata": {},
   "outputs": [],
   "source": [
    "var_yeo = ['edad','euribor3m']"
   ]
  },
  {
   "cell_type": "markdown",
   "id": "dec96c03",
   "metadata": {},
   "source": [
    "##### Instanciar"
   ]
  },
  {
   "cell_type": "code",
   "execution_count": 56,
   "id": "3804fa82",
   "metadata": {},
   "outputs": [],
   "source": [
    "yeo = PowerTransformer(method = 'yeo-johnson')"
   ]
  },
  {
   "cell_type": "markdown",
   "id": "f1ce31a4",
   "metadata": {},
   "source": [
    "##### Entrenar y aplicar"
   ]
  },
  {
   "cell_type": "code",
   "execution_count": 57,
   "id": "e02c7a20",
   "metadata": {},
   "outputs": [],
   "source": [
    "num_yeo = yeo.fit_transform(num[var_yeo])"
   ]
  },
  {
   "cell_type": "markdown",
   "id": "6035fc08",
   "metadata": {},
   "source": [
    "##### Guardar como dataframe"
   ]
  },
  {
   "cell_type": "code",
   "execution_count": 58,
   "id": "23d86f80",
   "metadata": {},
   "outputs": [],
   "source": [
    "#Añadir sufijos a los nombres\n",
    "nombres_yeo = [variable + '_yeo' for variable in var_yeo]\n",
    "\n",
    "#Guardar como dataframe\n",
    "num_yeo = pd.DataFrame(num_yeo,columns = nombres_yeo)"
   ]
  },
  {
   "cell_type": "markdown",
   "id": "30feb84f",
   "metadata": {},
   "source": [
    "#### Con Quantile Transformer"
   ]
  },
  {
   "cell_type": "markdown",
   "id": "ba6999c6",
   "metadata": {},
   "source": [
    "##### Variables a normalizar con Quantile Transformer"
   ]
  },
  {
   "cell_type": "code",
   "execution_count": 59,
   "id": "2c5f072d",
   "metadata": {},
   "outputs": [],
   "source": [
    "var_qt = ['edad','euribor3m']"
   ]
  },
  {
   "cell_type": "markdown",
   "id": "4e6f613d",
   "metadata": {},
   "source": [
    "##### Instanciar"
   ]
  },
  {
   "cell_type": "code",
   "execution_count": 60,
   "id": "edbf34cf",
   "metadata": {},
   "outputs": [],
   "source": [
    "qt = QuantileTransformer(output_distribution='normal')"
   ]
  },
  {
   "cell_type": "markdown",
   "id": "ecbaf1ef",
   "metadata": {},
   "source": [
    "##### Entrenar y aplicar"
   ]
  },
  {
   "cell_type": "code",
   "execution_count": 61,
   "id": "5719501c",
   "metadata": {},
   "outputs": [],
   "source": [
    "num_qt = qt.fit_transform(num[var_qt])"
   ]
  },
  {
   "cell_type": "markdown",
   "id": "c132227b",
   "metadata": {},
   "source": [
    "##### Guardar como dataframe"
   ]
  },
  {
   "cell_type": "code",
   "execution_count": 62,
   "id": "471634dc",
   "metadata": {},
   "outputs": [],
   "source": [
    "#Añadir sufijos a los nombres\n",
    "nombres_qt = [variable + '_qt' for variable in var_qt]\n",
    "\n",
    "#Guardar como dataframe\n",
    "num_qt = pd.DataFrame(num_qt,columns = nombres_qt)"
   ]
  },
  {
   "cell_type": "markdown",
   "id": "87434e0c",
   "metadata": {},
   "source": [
    "## UNIFICAR DATASETS TRANSFORMADOS"
   ]
  },
  {
   "cell_type": "markdown",
   "id": "6d638486",
   "metadata": {},
   "source": [
    "### Meter en una lista todos los dataframes generados"
   ]
  },
  {
   "cell_type": "code",
   "execution_count": 63,
   "id": "a63745d8",
   "metadata": {},
   "outputs": [],
   "source": [
    "dataframes = []\n",
    "dataframes.extend(value for name, value in locals().items() if name.startswith('cat_') or name.startswith('num_'))"
   ]
  },
  {
   "cell_type": "markdown",
   "id": "2b90d8a5",
   "metadata": {},
   "source": [
    "### Unir todos los dataframes"
   ]
  },
  {
   "cell_type": "code",
   "execution_count": 64,
   "id": "1a0f6ea0",
   "metadata": {},
   "outputs": [],
   "source": [
    "df = pd.concat(dataframes, axis = 1)"
   ]
  },
  {
   "cell_type": "markdown",
   "id": "5f9ffae2",
   "metadata": {},
   "source": [
    "## REESCALAR VARIABLES"
   ]
  },
  {
   "cell_type": "markdown",
   "id": "fbc62831",
   "metadata": {},
   "source": [
    "### Con Min-Max"
   ]
  },
  {
   "cell_type": "code",
   "execution_count": 65,
   "id": "c35ea0a2",
   "metadata": {},
   "outputs": [
    {
     "name": "stdout",
     "output_type": "stream",
     "text": [
      "<class 'pandas.core.frame.DataFrame'>\n",
      "RangeIndex: 19330 entries, 0 to 19329\n",
      "Data columns (total 26 columns):\n",
      " #   Column                              Non-Null Count  Dtype  \n",
      "---  ------                              --------------  -----  \n",
      " 0   estado_civil_OTROS                  19330 non-null  float64\n",
      " 1   estado_civil_divorced               19330 non-null  float64\n",
      " 2   estado_civil_married                19330 non-null  float64\n",
      " 3   estado_civil_single                 19330 non-null  float64\n",
      " 4   hipoteca_no                         19330 non-null  float64\n",
      " 5   hipoteca_unknown                    19330 non-null  float64\n",
      " 6   hipoteca_yes                        19330 non-null  float64\n",
      " 7   impago_no                           19330 non-null  float64\n",
      " 8   impago_unknown                      19330 non-null  float64\n",
      " 9   impago_yes                          19330 non-null  float64\n",
      " 10  consumo_no                          19330 non-null  float64\n",
      " 11  consumo_unknown                     19330 non-null  float64\n",
      " 12  consumo_yes                         19330 non-null  float64\n",
      " 13  formacion_oe                        19330 non-null  float64\n",
      " 14  resultado_campana_anterior_oe       19330 non-null  float64\n",
      " 15  trabajo_te                          19330 non-null  float64\n",
      " 16  mes_te                              19330 non-null  float64\n",
      " 17  num_contactos_esta_campana_disc_ds  19330 non-null  float64\n",
      " 18  num_dias_ultimo_contacto_disc_ds    19330 non-null  float64\n",
      " 19  num_contactos_esta_campana_disc_cs  19330 non-null  float64\n",
      " 20  euribor3m_disc_cs                   19330 non-null  float64\n",
      " 21  variacion_tasa_empleo_bin           19330 non-null  int64  \n",
      " 22  edad_yeo                            19330 non-null  float64\n",
      " 23  euribor3m_yeo                       19330 non-null  float64\n",
      " 24  edad_qt                             19330 non-null  float64\n",
      " 25  euribor3m_qt                        19330 non-null  float64\n",
      "dtypes: float64(25), int64(1)\n",
      "memory usage: 3.8 MB\n"
     ]
    }
   ],
   "source": [
    "df.info()"
   ]
  },
  {
   "cell_type": "markdown",
   "id": "de92d3fe",
   "metadata": {},
   "source": [
    "#### Variables a reescalar con Min-Max"
   ]
  },
  {
   "cell_type": "code",
   "execution_count": 66,
   "id": "4c9e40ba",
   "metadata": {},
   "outputs": [],
   "source": [
    "var_mms = df.iloc[:,13:].columns"
   ]
  },
  {
   "cell_type": "markdown",
   "id": "b0b18ca7",
   "metadata": {},
   "source": [
    "#### Instanciar"
   ]
  },
  {
   "cell_type": "code",
   "execution_count": 67,
   "id": "44a71f10",
   "metadata": {},
   "outputs": [],
   "source": [
    "mms = MinMaxScaler()"
   ]
  },
  {
   "cell_type": "markdown",
   "id": "57f8f537",
   "metadata": {},
   "source": [
    "#### Entrenar y aplicar"
   ]
  },
  {
   "cell_type": "code",
   "execution_count": 68,
   "id": "b45d4fa8",
   "metadata": {},
   "outputs": [],
   "source": [
    "df_mms = mms.fit_transform(df[var_mms])"
   ]
  },
  {
   "cell_type": "markdown",
   "id": "aea83d81",
   "metadata": {},
   "source": [
    "#### Guardar como dataframe"
   ]
  },
  {
   "cell_type": "code",
   "execution_count": 69,
   "id": "d5ba3f86",
   "metadata": {},
   "outputs": [],
   "source": [
    "#Añadir sufijos a los nombres\n",
    "nombres_mms = [variable + '_mms' for variable in var_mms]\n",
    "\n",
    "#Guardar como dataframe\n",
    "df_mms = pd.DataFrame(df_mms,columns = nombres_mms)"
   ]
  },
  {
   "cell_type": "markdown",
   "id": "91499b37",
   "metadata": {},
   "source": [
    "### Con estandarización"
   ]
  },
  {
   "cell_type": "markdown",
   "id": "a2e2cf2d",
   "metadata": {},
   "source": [
    "#### Variables a reescalar con estandarización"
   ]
  },
  {
   "cell_type": "code",
   "execution_count": 70,
   "id": "e734d994",
   "metadata": {},
   "outputs": [],
   "source": [
    "var_ss = df.iloc[:,13:].columns"
   ]
  },
  {
   "cell_type": "markdown",
   "id": "16d2aae2",
   "metadata": {},
   "source": [
    "#### Instanciar"
   ]
  },
  {
   "cell_type": "code",
   "execution_count": 71,
   "id": "cd9673cf",
   "metadata": {},
   "outputs": [],
   "source": [
    "ss = StandardScaler()"
   ]
  },
  {
   "cell_type": "markdown",
   "id": "2ba60f09",
   "metadata": {},
   "source": [
    "#### Entrenar y aplicar"
   ]
  },
  {
   "cell_type": "code",
   "execution_count": 72,
   "id": "74b619e6",
   "metadata": {},
   "outputs": [],
   "source": [
    "df_ss = ss.fit_transform(df[var_ss])"
   ]
  },
  {
   "cell_type": "markdown",
   "id": "1b12326b",
   "metadata": {},
   "source": [
    "#### Guardar como dataframe"
   ]
  },
  {
   "cell_type": "code",
   "execution_count": 73,
   "id": "07f4932e",
   "metadata": {},
   "outputs": [],
   "source": [
    "#Añadir sufijos a los nombres\n",
    "nombres_ss = [variable + '_ss' for variable in var_ss]\n",
    "\n",
    "#Guardar como dataframe\n",
    "df_ss = pd.DataFrame(df_ss,columns = nombres_ss)"
   ]
  },
  {
   "cell_type": "markdown",
   "id": "f57bdf73",
   "metadata": {},
   "source": [
    "### Con estandarización robusta"
   ]
  },
  {
   "cell_type": "markdown",
   "id": "fc184a1c",
   "metadata": {},
   "source": [
    "#### Variables a reescalar con estandarización robusta"
   ]
  },
  {
   "cell_type": "code",
   "execution_count": 74,
   "id": "d758fe46",
   "metadata": {},
   "outputs": [],
   "source": [
    "var_rs = df.iloc[:,13:].columns"
   ]
  },
  {
   "cell_type": "markdown",
   "id": "202b53a6",
   "metadata": {},
   "source": [
    "#### Percentiles a usar para el rango"
   ]
  },
  {
   "cell_type": "code",
   "execution_count": 75,
   "id": "dae75745",
   "metadata": {},
   "outputs": [],
   "source": [
    "p_min = 10.0\n",
    "p_max = 90.0"
   ]
  },
  {
   "cell_type": "markdown",
   "id": "4e0f2693",
   "metadata": {},
   "source": [
    "#### Instanciar"
   ]
  },
  {
   "cell_type": "code",
   "execution_count": 76,
   "id": "a77b0ded",
   "metadata": {},
   "outputs": [],
   "source": [
    "rs = RobustScaler(quantile_range=(p_min, p_max))"
   ]
  },
  {
   "cell_type": "markdown",
   "id": "1832d777",
   "metadata": {},
   "source": [
    "#### Entrenar y aplicar"
   ]
  },
  {
   "cell_type": "code",
   "execution_count": 77,
   "id": "a592f9fe",
   "metadata": {},
   "outputs": [],
   "source": [
    "df_rs = rs.fit_transform(df[var_rs])"
   ]
  },
  {
   "cell_type": "markdown",
   "id": "6f316ae9",
   "metadata": {},
   "source": [
    "#### Guardar como dataframe"
   ]
  },
  {
   "cell_type": "code",
   "execution_count": 78,
   "id": "5600b10c",
   "metadata": {},
   "outputs": [],
   "source": [
    "#Añadir sufijos a los nombres\n",
    "nombres_rs = [variable + '_rs' for variable in var_rs]\n",
    "\n",
    "#Guardar como dataframe\n",
    "df_rs = pd.DataFrame(df_rs,columns = nombres_rs)"
   ]
  },
  {
   "cell_type": "markdown",
   "id": "118dac36",
   "metadata": {},
   "source": [
    "## UNIFICAR DATASETS REESCALADOS"
   ]
  },
  {
   "cell_type": "markdown",
   "id": "e301d458",
   "metadata": {},
   "source": [
    "### Crear una lista con los dataframes a incluir en el tablón analítico"
   ]
  },
  {
   "cell_type": "code",
   "execution_count": 79,
   "id": "4e51c41f",
   "metadata": {},
   "outputs": [],
   "source": [
    "incluir = [df, df_mms, df_rs, df_ss, target]"
   ]
  },
  {
   "cell_type": "markdown",
   "id": "4412d913",
   "metadata": {},
   "source": [
    "### Unir todos los dataframes en el tablón analítico"
   ]
  },
  {
   "cell_type": "code",
   "execution_count": 80,
   "id": "bbacffcc",
   "metadata": {},
   "outputs": [],
   "source": [
    "df_tablon = pd.concat(incluir, axis = 1)"
   ]
  },
  {
   "cell_type": "markdown",
   "id": "9f098f8a",
   "metadata": {},
   "source": [
    "## GUARDAR DATASET TRAS TRANSFORMACIÓN DE DATOS"
   ]
  },
  {
   "cell_type": "markdown",
   "id": "7656ba95",
   "metadata": {},
   "source": [
    "En formato pickle para no perder las modificaciones de metadatos."
   ]
  },
  {
   "cell_type": "code",
   "execution_count": 81,
   "id": "782bf43c",
   "metadata": {},
   "outputs": [],
   "source": [
    "#Definir los nombres del archivo\n",
    "ruta_df_tablon = ruta_proyecto + '/02_Datos/03_Trabajo/' + 'df_tablon.pickle'"
   ]
  },
  {
   "cell_type": "code",
   "execution_count": 82,
   "id": "44c7dd60",
   "metadata": {},
   "outputs": [],
   "source": [
    "#Guardar los archivos\n",
    "df_tablon.to_pickle(ruta_df_tablon)"
   ]
  }
 ],
 "metadata": {
  "kernelspec": {
   "display_name": "Python 3 (ipykernel)",
   "language": "python",
   "name": "python3"
  },
  "language_info": {
   "codemirror_mode": {
    "name": "ipython",
    "version": 3
   },
   "file_extension": ".py",
   "mimetype": "text/x-python",
   "name": "python",
   "nbconvert_exporter": "python",
   "pygments_lexer": "ipython3",
   "version": "3.9.19"
  },
  "toc": {
   "base_numbering": 1,
   "nav_menu": {},
   "number_sections": true,
   "sideBar": true,
   "skip_h1_title": false,
   "title_cell": "Table of Contents",
   "title_sidebar": "Contents",
   "toc_cell": false,
   "toc_position": {
    "height": "calc(100% - 180px)",
    "left": "10px",
    "top": "150px",
    "width": "346.95px"
   },
   "toc_section_display": true,
   "toc_window_display": true
  },
  "varInspector": {
   "cols": {
    "lenName": 16,
    "lenType": 16,
    "lenVar": 40
   },
   "kernels_config": {
    "python": {
     "delete_cmd_postfix": "",
     "delete_cmd_prefix": "del ",
     "library": "var_list.py",
     "varRefreshCmd": "print(var_dic_list())"
    },
    "r": {
     "delete_cmd_postfix": ") ",
     "delete_cmd_prefix": "rm(",
     "library": "var_list.r",
     "varRefreshCmd": "cat(var_dic_list()) "
    }
   },
   "position": {
    "height": "546.85px",
    "left": "890.75px",
    "right": "20px",
    "top": "117px",
    "width": "350px"
   },
   "types_to_exclude": [
    "module",
    "function",
    "builtin_function_or_method",
    "instance",
    "_Feature"
   ],
   "window_display": false
  }
 },
 "nbformat": 4,
 "nbformat_minor": 5
}
